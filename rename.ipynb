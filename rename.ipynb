{
 "cells": [
  {
   "cell_type": "code",
   "execution_count": 13,
   "id": "70a0e9a1-cdeb-4661-9d3a-3069616adfcf",
   "metadata": {
    "tags": []
   },
   "outputs": [],
   "source": [
    "import os\n",
    "\n",
    "folder_path = './fitness_poses_images_in/pushups_up/'  # Replace with the path to your folder\n",
    "new_file_name_prefix = 'img_'  # Replace with the desired prefix for the new file names\n",
    "\n",
    "# Get a list of all files in the folder\n",
    "files = os.listdir(folder_path)\n",
    "\n",
    "# Sort the list of files by name\n",
    "files.sort()\n",
    "\n",
    "# Loop through all files in the folder\n",
    "for i, file_name in enumerate(files):\n",
    "    if file_name.endswith('.txt'):\n",
    "        # Delete the file\n",
    "        os.remove(os.path.join(folder_path, file_name))\n",
    "    else:\n",
    "        # Generate the new file name\n",
    "        new_file_name = new_file_name_prefix + str(i+1).zfill(4) + os.path.splitext(file_name)[1]\n",
    "        # Rename the file\n",
    "        os.rename(os.path.join(folder_path, file_name), os.path.join(folder_path, new_file_name))"
   ]
  }
 ],
 "metadata": {
  "kernelspec": {
   "display_name": "Python 3 (ipykernel)",
   "language": "python",
   "name": "python3"
  },
  "language_info": {
   "codemirror_mode": {
    "name": "ipython",
    "version": 3
   },
   "file_extension": ".py",
   "mimetype": "text/x-python",
   "name": "python",
   "nbconvert_exporter": "python",
   "pygments_lexer": "ipython3",
   "version": "3.10.6"
  }
 },
 "nbformat": 4,
 "nbformat_minor": 5
}
