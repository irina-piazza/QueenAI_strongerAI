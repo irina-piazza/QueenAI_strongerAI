{
 "cells": [
  {
   "cell_type": "code",
   "execution_count": 7,
   "id": "9575b5ac-20a8-42f9-b30d-389e2171c70b",
   "metadata": {
    "tags": []
   },
   "outputs": [],
   "source": [
    "import os# Directory path# List to store file names\n",
    "\n",
    "def return_list_image(dir_path):\n",
    "    file_names = []    # Iterate over files in directory\n",
    "    for file in os.listdir(dir_path):\n",
    "        # Check if file is a regular file (not a directory)\n",
    "        if os.path.isfile(os.path.join(dir_path, file)):\n",
    "            # Add file name to list\n",
    "            file_names.append(file)    \n",
    "    return file_names"
   ]
  },
  {
   "cell_type": "code",
   "execution_count": 8,
   "id": "a85c1aa6-f424-46eb-ac7a-dc5cfe817a78",
   "metadata": {
    "tags": []
   },
   "outputs": [],
   "source": [
    "dir_path = \"./fitness_poses_images_out/pushups_up/\"\n",
    "list_files_up = return_list_image(dir_path)\n",
    "dir_path = \"./fitness_poses_images_out/pushups_down/\"\n",
    "list_files_down = return_list_image(dir_path)"
   ]
  },
  {
   "cell_type": "code",
   "execution_count": null,
   "id": "81ee47bf-3d59-4b2e-8484-1eecc06abb1e",
   "metadata": {
    "tags": []
   },
   "outputs": [],
   "source": []
  },
  {
   "cell_type": "code",
   "execution_count": null,
   "id": "cd051de8-d856-4d58-b3c1-2673efea3e0b",
   "metadata": {},
   "outputs": [],
   "source": []
  },
  {
   "cell_type": "code",
   "execution_count": 11,
   "id": "9271b062-d385-43dd-a3af-500f65163eac",
   "metadata": {
    "tags": []
   },
   "outputs": [],
   "source": [
    "import os\n",
    "\n",
    "folder_path1 = './fitness_poses_images_out/pushups_up/'  # Replace with the path to the first subfolder\n",
    "folder_path2 = './fitness_poses_images_in/pushups_up/'  # Replace with the path to the second subfolder\n",
    "\n",
    "# Get a list of all file names in the first subfolder\n",
    "file_names1 = os.listdir(folder_path1)\n",
    "\n",
    "# Loop through all files in the second subfolder\n",
    "for file_name2 in os.listdir(folder_path2):\n",
    "    if file_name2 not in file_names1:\n",
    "        # Delete the file if it doesn't match the list\n",
    "        os.remove(os.path.join(folder_path2, file_name2))"
   ]
  },
  {
   "cell_type": "code",
   "execution_count": null,
   "id": "6176d56c-0f95-4260-b521-ee17c178f0af",
   "metadata": {},
   "outputs": [],
   "source": []
  }
 ],
 "metadata": {
  "kernelspec": {
   "display_name": "Python 3 (ipykernel)",
   "language": "python",
   "name": "python3"
  },
  "language_info": {
   "codemirror_mode": {
    "name": "ipython",
    "version": 3
   },
   "file_extension": ".py",
   "mimetype": "text/x-python",
   "name": "python",
   "nbconvert_exporter": "python",
   "pygments_lexer": "ipython3",
   "version": "3.10.4"
  }
 },
 "nbformat": 4,
 "nbformat_minor": 5
}
