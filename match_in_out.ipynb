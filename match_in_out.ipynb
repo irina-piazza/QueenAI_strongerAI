{
 "cells": [
  {
   "cell_type": "code",
   "execution_count": null,
   "id": "9271b062-d385-43dd-a3af-500f65163eac",
   "metadata": {
    "tags": []
   },
   "outputs": [],
   "source": [
    "import os\n",
    "\n",
    "folder_path1 = './fitness_poses_images_out/pushups_up/'  # Replace with the path to the first subfolder\n",
    "folder_path2 = './fitness_poses_images_in/pushups_up/'  # Replace with the path to the second subfolder\n",
    "\n",
    "# Get a list of all file names in the first subfolder\n",
    "file_names1 = os.listdir(folder_path1)\n",
    "\n",
    "# Loop through all files in the second subfolder\n",
    "for file_name2 in os.listdir(folder_path2):\n",
    "    if file_name2 not in file_names1:\n",
    "        # Delete the file if it doesn't match the list\n",
    "        os.remove(os.path.join(folder_path2, file_name2))"
   ]
  }
 ],
 "metadata": {
  "kernelspec": {
   "display_name": "Python 3 (ipykernel)",
   "language": "python",
   "name": "python3"
  },
  "language_info": {
   "codemirror_mode": {
    "name": "ipython",
    "version": 3
   },
   "file_extension": ".py",
   "mimetype": "text/x-python",
   "name": "python",
   "nbconvert_exporter": "python",
   "pygments_lexer": "ipython3",
   "version": "3.10.6"
  }
 },
 "nbformat": 4,
 "nbformat_minor": 5
}
